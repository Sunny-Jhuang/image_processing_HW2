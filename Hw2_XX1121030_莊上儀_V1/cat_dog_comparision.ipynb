{
 "cells": [
  {
   "cell_type": "code",
   "execution_count": 1,
   "metadata": {},
   "outputs": [],
   "source": [
    "import torch\n",
    "import torch.nn as nn\n",
    "import torch.nn.functional as F\n",
    "import torch.optim as optim\n",
    "import torchvision\n",
    "import torchvision.transforms as transforms\n",
    "import matplotlib.pyplot as plt\n",
    "import numpy as np\n",
    "from tqdm import tqdm"
   ]
  },
  {
   "cell_type": "code",
   "execution_count": 2,
   "metadata": {},
   "outputs": [],
   "source": [
    "# hyperparameters\n",
    "batch_size = 128\n",
    "num_classes = 2    # 0: cat, 1: dog"
   ]
  },
  {
   "cell_type": "code",
   "execution_count": 3,
   "metadata": {},
   "outputs": [],
   "source": [
    "# define transforms for validation data\n",
    "val_transform = transforms.Compose([\n",
    "    transforms.Resize((224, 224)),\n",
    "    transforms.ToTensor(),\n",
    "    transforms.Normalize((0.5,), (0.5,))\n",
    "])"
   ]
  },
  {
   "cell_type": "code",
   "execution_count": 4,
   "metadata": {},
   "outputs": [],
   "source": [
    "# load data\n",
    "val_dataset = torchvision.datasets.ImageFolder(root='./dataset/validation_dataset', transform=val_transform)\n",
    "\n",
    "# data loader\n",
    "val_loader = torch.utils.data.DataLoader(val_dataset, batch_size=batch_size, shuffle=False)"
   ]
  },
  {
   "cell_type": "code",
   "execution_count": 9,
   "metadata": {},
   "outputs": [
    {
     "data": {
      "text/plain": [
       "<All keys matched successfully>"
      ]
     },
     "execution_count": 9,
     "metadata": {},
     "output_type": "execute_result"
    }
   ],
   "source": [
    "# define 2 different models\n",
    "\n",
    "# original model\n",
    "model = torchvision.models.resnet50(num_classes=num_classes)\n",
    "model.load_state_dict(torch.load('./model/cat_dog_resnet50.pth', map_location=torch.device('cpu')))\n",
    "\n",
    "# wiht random erasing\n",
    "model_re = torchvision.models.resnet50(num_classes=num_classes)\n",
    "model_re.load_state_dict(torch.load('./model/cat_dog_resnet50_re.pth', map_location=torch.device('cpu')))"
   ]
  },
  {
   "cell_type": "code",
   "execution_count": 10,
   "metadata": {},
   "outputs": [
    {
     "name": "stderr",
     "output_type": "stream",
     "text": [
      "100%|██████████| 15/15 [05:17<00:00, 21.15s/it]"
     ]
    },
    {
     "name": "stdout",
     "output_type": "stream",
     "text": [
      "Accuracy of the network on the validation images: 96 %\n"
     ]
    },
    {
     "name": "stderr",
     "output_type": "stream",
     "text": [
      "\n"
     ]
    }
   ],
   "source": [
    "# validation\n",
    "model.eval()\n",
    "model_re.eval()\n",
    "\n",
    "correct = 0\n",
    "correct_re = 0\n",
    "\n",
    "with torch.no_grad():\n",
    "    for images, labels in tqdm(val_loader):\n",
    "        # original model\n",
    "        outputs = model(images)\n",
    "        _, predicted = torch.max(outputs.data, 1)\n",
    "        correct += (predicted == labels).sum().item()\n",
    "\n",
    "        # model with random erasing\n",
    "        outputs_re = model_re(images)\n",
    "        _, predicted_re = torch.max(outputs_re.data, 1)\n",
    "        correct_re += (predicted_re == labels).sum().item()"
   ]
  },
  {
   "cell_type": "code",
   "execution_count": 14,
   "metadata": {},
   "outputs": [
    {
     "name": "stdout",
     "output_type": "stream",
     "text": [
      "Accuracy of the original model: 96 %\n",
      "Accuracy of the model with random erasing: 97 %\n"
     ]
    }
   ],
   "source": [
    "# compare the accuracy\n",
    "\n",
    "model_accuracy = 100 * correct / len(val_dataset)\n",
    "model_re_accuracy = 100 * correct_re / len(val_dataset)\n",
    "\n",
    "print('Accuracy of the original model: %d %%' % model_accuracy)\n",
    "print('Accuracy of the model with random erasing: %d %%' % model_re_accuracy)"
   ]
  },
  {
   "cell_type": "code",
   "execution_count": 24,
   "metadata": {},
   "outputs": [
    {
     "data": {
      "image/png": "[encoded data removed]",
      "text/plain": [
       "<Figure size 640x480 with 1 Axes>"
      ]
     },
     "metadata": {},
     "output_type": "display_data"
    }
   ],
   "source": [
    "# plot comparison\n",
    "\n",
    "# x-axis\n",
    "models = ['Without Random Erasing', 'With Random Erasing']\n",
    "# y-axis\n",
    "accuracies = [model_accuracy, model_re_accuracy]\n",
    "\n",
    "# adding text labels to each bar\n",
    "for i in range(len(models)):\n",
    "    plt.text(models[i], accuracies[i] + 1, f'{accuracies[i]:.2f}%', ha='center')\n",
    "\n",
    "plt.bar(models, accuracies)\n",
    "plt.xlabel('Models')\n",
    "plt.ylabel('Accuracy (%)')\n",
    "plt.title('Accuracy Comparison')\n",
    "plt.savefig('model_comparison.png')\n",
    "plt.show()"
   ]
  }
 ],
 "metadata": {
  "kernelspec": {
   "display_name": "cv",
   "language": "python",
   "name": "python3"
  },
  "language_info": {
   "codemirror_mode": {
    "name": "ipython",
    "version": 3
   },
   "file_extension": ".py",
   "mimetype": "text/x-python",
   "name": "python",
   "nbconvert_exporter": "python",
   "pygments_lexer": "ipython3",
   "version": "3.10.13"
  }
 },
 "nbformat": 4,
 "nbformat_minor": 2
}
